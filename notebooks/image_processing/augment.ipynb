{
 "cells": [
  {
   "cell_type": "code",
   "execution_count": 14,
   "metadata": {},
   "outputs": [],
   "source": [
    "##clache\n",
    "\n",
    "import os\n",
    "import cv2\n",
    "\n",
    "image_folder = '1'\n",
    "processed_folder = 'augmented_images1'\n",
    "\n",
    "if not os.path.exists(processed_folder):\n",
    "    os.makedirs(processed_folder)\n",
    "\n",
    "for image_name in os.listdir(image_folder):\n",
    "    image_path = os.path.join(image_folder, image_name)\n",
    "    \n",
    "    if image_path.lower().endswith(('.png', '.jpg', '.jpeg')):\n",
    "        image = cv2.imread(image_path)\n",
    "        if image is None:\n",
    "            continue  \n",
    "        gray_image = cv2.cvtColor(image, cv2.COLOR_BGR2GRAY)\n",
    "        \n",
    "        clahe = cv2.createCLAHE(clipLimit=2.0, tileGridSize=(8,8))\n",
    "        processed_image = clahe.apply(gray_image)\n",
    "        \n",
    "        processed_image_path = os.path.join(processed_folder, image_name)\n",
    "        cv2.imwrite(processed_image_path, processed_image)\n"
   ]
  },
  {
   "cell_type": "code",
   "execution_count": 15,
   "metadata": {},
   "outputs": [],
   "source": [
    "\n",
    "##canne \n",
    "\n",
    "import os\n",
    "import cv2\n",
    "\n",
    "image_folder = '1'  \n",
    "processed_folder = 'augmented_images2'\n",
    "\n",
    "if not os.path.exists(processed_folder):\n",
    "    os.makedirs(processed_folder)\n",
    "\n",
    "for image_name in os.listdir(image_folder):\n",
    "    image_path = os.path.join(image_folder, image_name)\n",
    "    \n",
    "    if image_path.lower().endswith(('.png', '.jpg', '.jpeg')):\n",
    "        image = cv2.imread(image_path)\n",
    "        if image is None:\n",
    "            continue  \n",
    "        gray_image = cv2.cvtColor(image, cv2.COLOR_BGR2GRAY)\n",
    "        \n",
    "        clahe = cv2.createCLAHE(clipLimit=2.0, tileGridSize=(8,8))\n",
    "        processed_image = clahe.apply(gray_image)\n",
    "        \n",
    "        processed_image_path = os.path.join(processed_folder, image_name)\n",
    "        cv2.imwrite(processed_image_path, processed_image)\n"
   ]
  },
  {
   "cell_type": "code",
   "execution_count": 16,
   "metadata": {},
   "outputs": [
    {
     "name": "stdout",
     "output_type": "stream",
     "text": [
      "Generated 5 augmented images per original image in 'augmented_images3' directory.\n"
     ]
    }
   ],
   "source": [
    "import numpy as np\n",
    "import os\n",
    "import glob\n",
    "from tensorflow.keras.preprocessing.image import ImageDataGenerator, img_to_array, load_img\n",
    "\n",
    "input_folder_path = '1' \n",
    "output_dir = 'augmented_images3'\n",
    "number_of_augmented_images = 5  \n",
    "os.makedirs(output_dir, exist_ok=True)\n",
    "\n",
    "datagen = ImageDataGenerator(\n",
    "    rotation_range=10, \n",
    "    width_shift_range=0.05,  \n",
    "    height_shift_range=0.05,  \n",
    "    horizontal_flip=True,  \n",
    "    fill_mode='nearest',  \n",
    "    zoom_range=[0.95, 1.05] \n",
    ")\n",
    "\n",
    "for image_path in glob.glob(os.path.join(input_folder_path, '*.jpg')):\n",
    "    img = load_img(image_path)  \n",
    "    x = img_to_array(img) \n",
    "    x = x.reshape((1,) + x.shape) \n",
    "\n",
    "    i = 0\n",
    "    for batch in datagen.flow(x, batch_size=1, save_to_dir=output_dir, save_prefix='aug', save_format='jpeg'):\n",
    "        i += 1\n",
    "        if i >= number_of_augmented_images:\n",
    "            break \n",
    "\n",
    "print(f\"Generated {number_of_augmented_images} augmented images per original image in '{output_dir}' directory.\")\n"
   ]
  },
  {
   "cell_type": "code",
   "execution_count": 4,
   "metadata": {},
   "outputs": [
    {
     "name": "stderr",
     "output_type": "stream",
     "text": [
      "Augmenting Images: 100%|██████████| 3421/3421 [24:56<00:00,  2.29it/s] "
     ]
    },
    {
     "name": "stdout",
     "output_type": "stream",
     "text": [
      "All augmented images have been saved.\n"
     ]
    },
    {
     "name": "stderr",
     "output_type": "stream",
     "text": [
      "\n"
     ]
    }
   ],
   "source": [
    "import albumentations as A\n",
    "import cv2\n",
    "import os\n",
    "from tqdm import tqdm  \n",
    "\n",
    "transform = A.Compose([\n",
    "    A.Rotate(limit=20, p=0.9),\n",
    "    A.HorizontalFlip(p=0.5),\n",
    "    A.RandomCrop(width=400, height=400, p=0.1),\n",
    "    A.RGBShift(r_shift_limit=15, g_shift_limit=15, b_shift_limit=15, p=0.5),\n",
    "    A.RandomBrightnessContrast(brightness_limit=0.1, contrast_limit=0.1, p=0.5),\n",
    "    A.GaussNoise(var_limit=(10.0, 30.0), p=0.5),\n",
    "    A.Blur(blur_limit=3, p=0.5),\n",
    "])\n",
    "\n",
    "source_folder = 'Beds'\n",
    "save_folder = 'Beds_Augmented'\n",
    "\n",
    "if not os.path.exists(save_folder):\n",
    "    os.makedirs(save_folder)\n",
    "\n",
    "for filename in tqdm(os.listdir(source_folder), desc='Augmenting Images'):\n",
    "    image_path = os.path.join(source_folder, filename)\n",
    "    \n",
    "    image = cv2.imread(image_path)\n",
    "    \n",
    "\n",
    "    image = cv2.cvtColor(image, cv2.COLOR_BGR2RGB)\n",
    "\n",
    "    for i in range(6):\n",
    "        augmented = transform(image=image)\n",
    "        augmented_image = augmented['image']\n",
    "        \n",
    "        save_path = os.path.join(save_folder, f\"augmented_{os.path.splitext(filename)[0]}_{i}.jpg\")\n",
    "        \n",
    "        cv2.imwrite(save_path, cv2.cvtColor(augmented_image, cv2.COLOR_RGB2BGR))\n",
    "\n",
    "print(\"All augmented images have been saved.\")\n"
   ]
  },
  {
   "cell_type": "code",
   "execution_count": 3,
   "metadata": {},
   "outputs": [],
   "source": [
    "from PIL import Image\n",
    "import os\n",
    "\n",
    "def delete_small_photos(directory):\n",
    "    for filename in os.listdir(directory):\n",
    "        file_path = os.path.join(directory, filename)\n",
    "        with Image.open(file_path) as img:\n",
    "            if img.width < 700 or img.height < 700:\n",
    "                os.remove(file_path)\n",
    "        \n",
    "\n",
    "directory_path = 'Beds'\n",
    "delete_small_photos(directory_path)\n"
   ]
  },
  {
   "cell_type": "code",
   "execution_count": 1,
   "metadata": {},
   "outputs": [],
   "source": [
    "import torch\n",
    "import kornia as K\n",
    "import cv2\n",
    "import os\n",
    "from torchvision.transforms.functional import to_pil_image\n",
    "\n",
    "def convert_image_to_sketch_kornia(image_path, output_path, blur_size=5, threshold1=100, threshold2=200):\n",
    "    img = cv2.imread(image_path)\n",
    "    img = cv2.cvtColor(img, cv2.COLOR_BGR2RGB)\n",
    "\n",
    "    img_tensor = K.image_to_tensor(img, keepdim=False).float() / 255.0\n",
    "    blur_kernel_size = (blur_size, blur_size)\n",
    "    if blur_size % 2 == 0:\n",
    "        blur_kernel_size = (blur_size + 1, blur_size + 1)\n",
    "    img_blurred = K.filters.gaussian_blur2d(img_tensor, blur_kernel_size, (blur_size, blur_size))\n",
    "\n",
    "    gradients = K.filters.spatial_gradient(img_blurred, order=1, mode='sobel')\n",
    "    edges_x = gradients[:, 0, :, :]\n",
    "    edges_y = gradients[:, 1, :, :]\n",
    "    edges = torch.sqrt(edges_x ** 2 + edges_y ** 2)\n",
    "    edges = (edges - edges.min()) / (edges.max() - edges.min())  \n",
    "    edges = (edges > threshold1 / 255.0).float()  \n",
    "    edges_pil = to_pil_image(edges.squeeze())\n",
    "\n",
    "    if edges_pil.mode != 'L':\n",
    "        edges_pil = edges_pil.convert('L')\n",
    "\n",
    "    edges_pil.save(output_path, format='JPEG') \n",
    "def process_folder_kornia(input_folder, output_folder, blur_size=5, threshold1=100, threshold2=200):\n",
    "    if not os.path.exists(output_folder):\n",
    "        os.makedirs(output_folder)\n",
    "    for filename in os.listdir(input_folder):\n",
    "        if filename.lower().endswith(('.png', '.jpg', '.jpeg')):\n",
    "            file_path = os.path.join(input_folder, filename)\n",
    "            output_path = os.path.join(output_folder, f'sketch_{filename}')\n",
    "            \n",
    "            convert_image_to_sketch_kornia(file_path, output_path, blur_size, threshold1, threshold2)\n",
    "            print(f\"Processed and saved: {output_path}\")\n",
    "\n",
    "input_folder = '1'  \n",
    "output_folder = 'augmented_images5' \n",
    "\n",
    "blur_size = 5 \n",
    "threshold1 = 100\n",
    "threshold2 = 200\n",
    "\n",
    "process_folder_kornia(input_folder, output_folder, blur_size, threshold1, threshold2)\n"
   ]
  },
  {
   "cell_type": "code",
   "execution_count": null,
   "metadata": {},
   "outputs": [],
   "source": []
  },
  {
   "cell_type": "code",
   "execution_count": null,
   "metadata": {},
   "outputs": [],
   "source": []
  },
  {
   "cell_type": "code",
   "execution_count": null,
   "metadata": {},
   "outputs": [],
   "source": []
  },
  {
   "cell_type": "code",
   "execution_count": null,
   "metadata": {},
   "outputs": [],
   "source": []
  },
  {
   "cell_type": "code",
   "execution_count": null,
   "metadata": {},
   "outputs": [],
   "source": []
  },
  {
   "cell_type": "code",
   "execution_count": null,
   "metadata": {},
   "outputs": [],
   "source": []
  },
  {
   "cell_type": "code",
   "execution_count": null,
   "metadata": {},
   "outputs": [],
   "source": []
  },
  {
   "cell_type": "code",
   "execution_count": null,
   "metadata": {},
   "outputs": [],
   "source": []
  },
  {
   "cell_type": "code",
   "execution_count": null,
   "metadata": {},
   "outputs": [],
   "source": []
  },
  {
   "cell_type": "code",
   "execution_count": null,
   "metadata": {},
   "outputs": [],
   "source": []
  },
  {
   "cell_type": "code",
   "execution_count": null,
   "metadata": {},
   "outputs": [],
   "source": []
  },
  {
   "cell_type": "code",
   "execution_count": null,
   "metadata": {},
   "outputs": [],
   "source": []
  },
  {
   "cell_type": "code",
   "execution_count": null,
   "metadata": {},
   "outputs": [],
   "source": []
  },
  {
   "cell_type": "code",
   "execution_count": null,
   "metadata": {},
   "outputs": [],
   "source": []
  },
  {
   "cell_type": "code",
   "execution_count": null,
   "metadata": {},
   "outputs": [],
   "source": []
  },
  {
   "cell_type": "code",
   "execution_count": null,
   "metadata": {},
   "outputs": [],
   "source": []
  },
  {
   "cell_type": "code",
   "execution_count": null,
   "metadata": {},
   "outputs": [],
   "source": []
  },
  {
   "cell_type": "code",
   "execution_count": null,
   "metadata": {},
   "outputs": [],
   "source": []
  },
  {
   "cell_type": "code",
   "execution_count": null,
   "metadata": {},
   "outputs": [],
   "source": []
  },
  {
   "cell_type": "code",
   "execution_count": null,
   "metadata": {},
   "outputs": [],
   "source": []
  }
 ],
 "metadata": {
  "kernelspec": {
   "display_name": "zip2zip",
   "language": "python",
   "name": "python3"
  },
  "language_info": {
   "codemirror_mode": {
    "name": "ipython",
    "version": 3
   },
   "file_extension": ".py",
   "mimetype": "text/x-python",
   "name": "python",
   "nbconvert_exporter": "python",
   "pygments_lexer": "ipython3",
   "version": "3.11.5"
  }
 },
 "nbformat": 4,
 "nbformat_minor": 2
}
