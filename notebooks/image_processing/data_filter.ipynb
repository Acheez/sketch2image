{
 "cells": [
  {
   "cell_type": "code",
   "execution_count": 7,
   "metadata": {},
   "outputs": [],
   "source": [
    "import os\n",
    "import cv2\n",
    "from ultralytics import YOLO\n",
    "from tqdm import tqdm  \n",
    "\n",
    "image_folder = 'redfin_images'\n",
    "\n",
    "model = YOLO(\"best.pt\")\n",
    "\n",
    "image_files = [f for f in os.listdir(image_folder) if f.lower().endswith(('.png', '.jpg', '.jpeg'))]\n",
    "\n",
    "for image_name in tqdm(image_files, desc=\"Processing Images\"):\n",
    "    image_path = os.path.join(image_folder, image_name)\n",
    "    \n",
    "    image = cv2.imread(image_path)\n",
    "    \n",
    "    results = model.predict(image)\n",
    "\n",
    "    if len(results[0].boxes) == 0:\n",
    "        os.remove(image_path)\n",
    "print(\"Processing complete.\")\n"
   ]
  },
  {
   "cell_type": "code",
   "execution_count": null,
   "metadata": {},
   "outputs": [],
   "source": []
  }
 ],
 "metadata": {
  "kernelspec": {
   "display_name": "zip2zip",
   "language": "python",
   "name": "python3"
  },
  "language_info": {
   "codemirror_mode": {
    "name": "ipython",
    "version": 3
   },
   "file_extension": ".py",
   "mimetype": "text/x-python",
   "name": "python",
   "nbconvert_exporter": "python",
   "pygments_lexer": "ipython3",
   "version": "3.11.5"
  }
 },
 "nbformat": 4,
 "nbformat_minor": 2
}
